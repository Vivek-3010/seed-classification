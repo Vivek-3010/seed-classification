{
 "cells": [
  {
   "cell_type": "code",
   "execution_count": null,
   "id": "953acc77-1c30-45ae-9185-000b729f8340",
   "metadata": {},
   "outputs": [
    {
     "name": "stdout",
     "output_type": "stream",
     "text": [
      "Downloading from https://www.kaggle.com/api/v1/datasets/download/warcoder/soyabean-seeds?dataset_version_number=2...\n"
     ]
    },
    {
     "name": "stderr",
     "output_type": "stream",
     "text": [
      "100%|█████████████████████████████████████████████████████████████████████████████| 86.1M/86.1M [00:09<00:00, 9.83MB/s]"
     ]
    },
    {
     "name": "stdout",
     "output_type": "stream",
     "text": [
      "Extracting files...\n"
     ]
    },
    {
     "name": "stderr",
     "output_type": "stream",
     "text": [
      "\n"
     ]
    },
    {
     "name": "stdout",
     "output_type": "stream",
     "text": [
      "Path to dataset files: C:\\Users\\GRISH PATIL\\.cache\\kagglehub\\datasets\\warcoder\\soyabean-seeds\\versions\\2\n"
     ]
    }
   ],
   "source": [
    "import kagglehub\n",
    "\n",
    "path = kagglehub.dataset_download(\"warcoder/soyabean-seeds\")\n",
    "print(\"Path to dataset files:\", path)"
   ]
  },
  {
   "cell_type": "code",
   "execution_count": 1,
   "id": "15610177-2d0b-4f87-acc4-57c666a2b649",
   "metadata": {},
   "outputs": [],
   "source": [
    "import os "
   ]
  },
  {
   "cell_type": "code",
   "execution_count": 3,
   "id": "62bbc65b-5473-4d93-9608-f2af77942643",
   "metadata": {},
   "outputs": [
    {
     "name": "stdout",
     "output_type": "stream",
     "text": [
      "['.ipynb_checkpoints', '2.complete', 'versions']\n"
     ]
    }
   ],
   "source": [
    "print(os.listdir(\"soyabean-seeds\"))"
   ]
  },
  {
   "cell_type": "code",
   "execution_count": null,
   "id": "4168e227-e46c-4e6a-b48a-5fa82ee18414",
   "metadata": {},
   "outputs": [
    {
     "name": "stdout",
     "output_type": "stream",
     "text": [
      "Total images found: 5513\n",
      "Sample of the DataFrame:\n",
      "                                            filepath            label\n",
      "0  C:\\Users\\GRISH PATIL\\OneDrive\\Desktop\\GEN AI W...  Broken soybeans\n",
      "1  C:\\Users\\GRISH PATIL\\OneDrive\\Desktop\\GEN AI W...  Broken soybeans\n",
      "2  C:\\Users\\GRISH PATIL\\OneDrive\\Desktop\\GEN AI W...  Broken soybeans\n",
      "3  C:\\Users\\GRISH PATIL\\OneDrive\\Desktop\\GEN AI W...  Broken soybeans\n",
      "4  C:\\Users\\GRISH PATIL\\OneDrive\\Desktop\\GEN AI W...  Broken soybeans\n"
     ]
    }
   ],
   "source": [
    "import os\n",
    "import pandas as pd\n",
    "import numpy as np\n",
    "import cv2 \n",
    "from sklearn.model_selection import train_test_split\n",
    "import tensorflow as tf\n",
    "from tensorflow.keras.preprocessing.image import ImageDataGenerator\n",
    "\n",
    "\n",
    "dataset_path = r'C:\\Users\\GRISH PATIL\\OneDrive\\Desktop\\GEN AI WITH DS\\AgriAihackathon\\soyabean-seeds\\versions\\2\\Soybean Seeds'\n",
    "\n",
    "filepaths = []\n",
    "labels = []\n",
    "folds = os.listdir(dataset_path)\n",
    "for fold in folds:\n",
    "    f_path = os.path.join(dataset_path, fold)\n",
    "    if os.path.isdir(f_path):\n",
    "      files = os.listdir(f_path)\n",
    "      for file in files:\n",
    "          filepaths.append(os.path.join(f_path, file))\n",
    "          labels.append(fold)\n",
    "\n",
    "df = pd.DataFrame({'filepath': filepaths, 'label': labels})\n",
    "\n",
    "print(f\"Total images found: {len(df)}\")\n",
    "print(\"Sample of the DataFrame:\")\n",
    "print(df.head())"
   ]
  },
  {
   "cell_type": "code",
   "execution_count": null,
   "id": "a29ad089-1653-48b3-9ad8-a668ceb5a720",
   "metadata": {},
   "outputs": [
    {
     "name": "stdout",
     "output_type": "stream",
     "text": [
      "['.ipynb_checkpoints', '2.complete', 'versions']\n"
     ]
    }
   ],
   "source": [
    "import os\n",
    "\n",
    "current_path = r'C:\\Users\\GRISH PATIL\\OneDrive\\Desktop\\GEN AI WITH DS\\AgriAihackathon\\soyabean-seeds'\n",
    "\n",
    "print(os.listdir(current_path))"
   ]
  },
  {
   "cell_type": "code",
   "execution_count": null,
   "id": "daa2e2a2-a502-4a87-8ac3-7b9174aca181",
   "metadata": {},
   "outputs": [
    {
     "name": "stdout",
     "output_type": "stream",
     "text": [
      "Training samples: 4410\n",
      "Validation samples: 551\n",
      "Testing samples: 552\n",
      "Found 4410 validated image filenames belonging to 5 classes.\n",
      "Found 551 validated image filenames belonging to 5 classes.\n"
     ]
    }
   ],
   "source": [
    "train_df, temp_df = train_test_split(df, train_size=0.8, shuffle=True, random_state=42, stratify=df['label'])\n",
    "\n",
    "valid_df, test_df = train_test_split(temp_df, train_size=0.5, shuffle=True, random_state=42, stratify=temp_df['label'])\n",
    "\n",
    "print(f\"Training samples: {len(train_df)}\")\n",
    "print(f\"Validation samples: {len(valid_df)}\")\n",
    "print(f\"Testing samples: {len(test_df)}\")\n",
    "\n",
    "train_gen = ImageDataGenerator(\n",
    "    rescale=1./255.,\n",
    "    rotation_range=20,\n",
    "    width_shift_range=0.1,\n",
    "    height_shift_range=0.1,\n",
    "    shear_range=0.1,\n",
    "    zoom_range=0.1,\n",
    "    horizontal_flip=True,\n",
    "    fill_mode='nearest'\n",
    ")\n",
    "\n",
    "val_test_gen = ImageDataGenerator(rescale=1./255.)\n",
    "\n",
    "train_data = train_gen.flow_from_dataframe(\n",
    "    dataframe=train_df,\n",
    "    x_col='filepath',\n",
    "    y_col='label',\n",
    "    target_size=(224, 224),\n",
    "    class_mode='categorical',\n",
    "    batch_size=32,\n",
    "    shuffle=True\n",
    ")\n",
    "\n",
    "valid_data = val_test_gen.flow_from_dataframe(\n",
    "    dataframe=valid_df,\n",
    "    x_col='filepath',\n",
    "    y_col='label',\n",
    "    target_size=(224, 224),\n",
    "    class_mode='categorical',\n",
    "    batch_size=32,\n",
    "    shuffle=False\n",
    ")"
   ]
  },
  {
   "cell_type": "code",
   "execution_count": null,
   "id": "323709dd-3782-4cf8-83e2-9542d618a92e",
   "metadata": {},
   "outputs": [
    {
     "name": "stderr",
     "output_type": "stream",
     "text": [
      "C:\\Users\\GRISH PATIL\\AppData\\Local\\Programs\\Python\\Python312\\Lib\\site-packages\\keras\\src\\trainers\\data_adapters\\py_dataset_adapter.py:121: UserWarning: Your `PyDataset` class should call `super().__init__(**kwargs)` in its constructor. `**kwargs` can include `workers`, `use_multiprocessing`, `max_queue_size`. Do not pass these arguments to `fit()`, as they will be ignored.\n",
      "  self._warn_if_super_not_called()\n"
     ]
    },
    {
     "name": "stdout",
     "output_type": "stream",
     "text": [
      "Epoch 1/10\n",
      "\u001b[1m138/138\u001b[0m \u001b[32m━━━━━━━━━━━━━━━━━━━━\u001b[0m\u001b[37m\u001b[0m \u001b[1m185s\u001b[0m 1s/step - accuracy: 0.6331 - loss: 0.9122 - val_accuracy: 0.7586 - val_loss: 0.6399\n",
      "Epoch 2/10\n",
      "\u001b[1m138/138\u001b[0m \u001b[32m━━━━━━━━━━━━━━━━━━━━\u001b[0m\u001b[37m\u001b[0m \u001b[1m131s\u001b[0m 950ms/step - accuracy: 0.7354 - loss: 0.6709 - val_accuracy: 0.7967 - val_loss: 0.5621\n",
      "Epoch 3/10\n",
      "\u001b[1m138/138\u001b[0m \u001b[32m━━━━━━━━━━━━━━━━━━━━\u001b[0m\u001b[37m\u001b[0m \u001b[1m136s\u001b[0m 985ms/step - accuracy: 0.7624 - loss: 0.6109 - val_accuracy: 0.7713 - val_loss: 0.5539\n",
      "Epoch 4/10\n",
      "\u001b[1m138/138\u001b[0m \u001b[32m━━━━━━━━━━━━━━━━━━━━\u001b[0m\u001b[37m\u001b[0m \u001b[1m127s\u001b[0m 922ms/step - accuracy: 0.7844 - loss: 0.5632 - val_accuracy: 0.8040 - val_loss: 0.4996\n",
      "Epoch 5/10\n",
      "\u001b[1m138/138\u001b[0m \u001b[32m━━━━━━━━━━━━━━━━━━━━\u001b[0m\u001b[37m\u001b[0m \u001b[1m126s\u001b[0m 911ms/step - accuracy: 0.7971 - loss: 0.5325 - val_accuracy: 0.8149 - val_loss: 0.4894\n",
      "Epoch 6/10\n",
      "\u001b[1m138/138\u001b[0m \u001b[32m━━━━━━━━━━━━━━━━━━━━\u001b[0m\u001b[37m\u001b[0m \u001b[1m123s\u001b[0m 893ms/step - accuracy: 0.8023 - loss: 0.5184 - val_accuracy: 0.8004 - val_loss: 0.4896\n",
      "Epoch 7/10\n",
      "\u001b[1m138/138\u001b[0m \u001b[32m━━━━━━━━━━━━━━━━━━━━\u001b[0m\u001b[37m\u001b[0m \u001b[1m131s\u001b[0m 949ms/step - accuracy: 0.8093 - loss: 0.4908 - val_accuracy: 0.8167 - val_loss: 0.4760\n",
      "Epoch 8/10\n",
      "\u001b[1m138/138\u001b[0m \u001b[32m━━━━━━━━━━━━━━━━━━━━\u001b[0m\u001b[37m\u001b[0m \u001b[1m129s\u001b[0m 938ms/step - accuracy: 0.8147 - loss: 0.4818 - val_accuracy: 0.8258 - val_loss: 0.4561\n",
      "Epoch 9/10\n",
      "\u001b[1m138/138\u001b[0m \u001b[32m━━━━━━━━━━━━━━━━━━━━\u001b[0m\u001b[37m\u001b[0m \u001b[1m135s\u001b[0m 980ms/step - accuracy: 0.8209 - loss: 0.4633 - val_accuracy: 0.8294 - val_loss: 0.4764\n",
      "Epoch 10/10\n",
      "\u001b[1m138/138\u001b[0m \u001b[32m━━━━━━━━━━━━━━━━━━━━\u001b[0m\u001b[37m\u001b[0m \u001b[1m139s\u001b[0m 1s/step - accuracy: 0.8159 - loss: 0.4715 - val_accuracy: 0.8240 - val_loss: 0.4411\n"
     ]
    },
    {
     "name": "stderr",
     "output_type": "stream",
     "text": [
      "WARNING:absl:You are saving your model as an HDF5 file via `model.save()` or `keras.saving.save_model(model)`. This file format is considered legacy. We recommend using instead the native Keras format, e.g. `model.save('my_model.keras')` or `keras.saving.save_model(model, 'my_model.keras')`. \n"
     ]
    }
   ],
   "source": [
    "base_model = tf.keras.applications.MobileNetV2(\n",
    "    input_shape=(224, 224, 3),\n",
    "    include_top=False, \n",
    "    weights='imagenet'\n",
    ")\n",
    "base_model.trainable = False \n",
    "\n",
    "model = tf.keras.Sequential([\n",
    "    base_model,\n",
    "    tf.keras.layers.GlobalAveragePooling2D(),\n",
    "    tf.keras.layers.Dense(128, activation='relu'),\n",
    "    tf.keras.layers.Dropout(0.2),\n",
    "    tf.keras.layers.Dense(len(train_data.class_indices), activation='softmax')\n",
    "])\n",
    "\n",
    "model.compile(\n",
    "    optimizer='adam',\n",
    "    loss='categorical_crossentropy',\n",
    "    metrics=['accuracy']\n",
    ")\n",
    "\n",
    "history = model.fit(\n",
    "    train_data,\n",
    "    validation_data=valid_data,\n",
    "    epochs=10,\n",
    "    verbose=1\n",
    ")\n",
    "\n",
    "model.save('seed_classifier_model.h5')"
   ]
  },
  {
   "cell_type": "code",
   "execution_count": null,
   "id": "397a1642-9d22-4c29-b1b3-51f95146ddd1",
   "metadata": {},
   "outputs": [],
   "source": []
  }
 ],
 "metadata": {
  "kernelspec": {
   "display_name": "Python 3 (ipykernel)",
   "language": "python",
   "name": "python3"
  },
  "language_info": {
   "codemirror_mode": {
    "name": "ipython",
    "version": 3
   },
   "file_extension": ".py",
   "mimetype": "text/x-python",
   "name": "python",
   "nbconvert_exporter": "python",
   "pygments_lexer": "ipython3",
   "version": "3.12.0"
  }
 },
 "nbformat": 4,
 "nbformat_minor": 5
}
